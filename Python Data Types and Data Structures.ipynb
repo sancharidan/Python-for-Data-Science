{
 "cells": [
  {
   "cell_type": "markdown",
   "metadata": {},
   "source": [
    "# Datatypes in Python"
   ]
  },
  {
   "cell_type": "markdown",
   "metadata": {},
   "source": [
    "### The following datatypes are implicitly defined with the assignment operator. Python allows dynamic memory allocation. The variables do not need to be explicitly declared with their datatype as in Java, C, C++."
   ]
  },
  {
   "cell_type": "code",
   "execution_count": 1,
   "metadata": {
    "collapsed": true
   },
   "outputs": [],
   "source": [
    "number_int = 21          # An integer assignment\n",
    "number_float   = 149.5   # A floating point\n",
    "string_name    = \"John\"  # A string\n",
    "char_alph = 'A'          # A character   \n",
    "boolean = True           #boolean"
   ]
  },
  {
   "cell_type": "code",
   "execution_count": 2,
   "metadata": {
    "collapsed": false
   },
   "outputs": [
    {
     "name": "stdout",
     "output_type": "stream",
     "text": [
      "(21, 149.5, 'John', 'A')\n"
     ]
    }
   ],
   "source": [
    "print (number_int,number_float,string_name,char_alph,boolean)"
   ]
  },
  {
   "cell_type": "markdown",
   "metadata": {
    "collapsed": true
   },
   "source": [
    "# Data Structures in Python\n"
   ]
  },
  {
   "cell_type": "markdown",
   "metadata": {},
   "source": [
    "### The following data structures are available in python:\n",
    "### List, Tuple, Dictionary, Strings, Sets"
   ]
  },
  {
   "cell_type": "markdown",
   "metadata": {},
   "source": [
    " #### > Lists, strings and tuples are ordered sequences of objects. Strings contain only characters, list and tuples can contain any type of objects. \n",
    " #### > Tuples and strings are immutable, while lists are mutable.\n",
    " #### > Sets are mutable unordered sequence of unique elements."
   ]
  },
  {
   "cell_type": "markdown",
   "metadata": {},
   "source": [
    "## Lists"
   ]
  },
  {
   "cell_type": "code",
   "execution_count": 2,
   "metadata": {
    "collapsed": false
   },
   "outputs": [
    {
     "name": "stdout",
     "output_type": "stream",
     "text": [
      "2\n",
      "[2, 3]\n"
     ]
    }
   ],
   "source": [
    "list1 = [1, 2, 3, 4]\n",
    "print (list1[1]) #indexing lists to access elements\n",
    "print (list1[1:3]) #slicing or subsetting list"
   ]
  },
  {
   "cell_type": "code",
   "execution_count": 3,
   "metadata": {
    "collapsed": true
   },
   "outputs": [],
   "source": [
    "list2 = [1,'a',[44,55]] #list can contain any type of objects"
   ]
  },
  {
   "cell_type": "markdown",
   "metadata": {},
   "source": [
    "### Various list methods are: append,extend, insert,remove, index, count, sort and reverse"
   ]
  },
  {
   "cell_type": "code",
   "execution_count": 4,
   "metadata": {
    "collapsed": false
   },
   "outputs": [
    {
     "name": "stdout",
     "output_type": "stream",
     "text": [
      "[1, 2, 3, 4, 5, 6, 7, 8]\n"
     ]
    }
   ],
   "source": [
    "list1.append(5) # append is used to insert one object to the end of a list\n",
    "list1.extend([6,7,8]) # extend can append mutiple objects one after the other to a list\n",
    "print (list1)"
   ]
  },
  {
   "cell_type": "markdown",
   "metadata": {},
   "source": [
    "## Tuples\n",
    "\n",
    "#### >faster than lists\n",
    "#### >immutable, hence protect the data\n",
    "#### >can be used as keys on dictionaries"
   ]
  },
  {
   "cell_type": "code",
   "execution_count": 7,
   "metadata": {
    "collapsed": false
   },
   "outputs": [
    {
     "name": "stdout",
     "output_type": "stream",
     "text": [
      "(1, 2, 3, 1, 2, 3)\n",
      "(1, 2, 3, 1, 2, 3, 5, 6)\n"
     ]
    }
   ],
   "source": [
    "tuple1=(1,2,3) # parentheses used to define tuples\n",
    "tuple1[1] # indexing tuple elements\n",
    "\n",
    "tuple1*=2\n",
    "print (tuple1) #augmentation\n",
    "\n",
    "tuple1+= (5,6,) # concatenation\n",
    "print (tuple1)"
   ]
  },
  {
   "cell_type": "code",
   "execution_count": 9,
   "metadata": {
    "collapsed": false
   },
   "outputs": [
    {
     "name": "stdout",
     "output_type": "stream",
     "text": [
      "6\n",
      "2\n"
     ]
    }
   ],
   "source": [
    "## Tuple methods\n",
    "print (tuple1.index(5)) #index method - index of occurence of an element\n",
    "print (tuple1.count(2)) #count method - number of occurence of an element"
   ]
  },
  {
   "cell_type": "code",
   "execution_count": 10,
   "metadata": {
    "collapsed": false
   },
   "outputs": [
    {
     "data": {
      "text/plain": [
       "2"
      ]
     },
     "execution_count": 10,
     "metadata": {},
     "output_type": "execute_result"
    }
   ],
   "source": [
    "numbers  = (1,2,3)\n",
    "x, y, z = numbers #tuple unpacking into variables\n",
    "y"
   ]
  },
  {
   "cell_type": "markdown",
   "metadata": {},
   "source": [
    "## Dictionaries\n",
    "#### A dictionary is an unordered sequence of items where each item is a pair of a key and a value. \n",
    "#### Dictionaries are not sorted. The list of keys or values can be accessed independently."
   ]
  },
  {
   "cell_type": "code",
   "execution_count": 17,
   "metadata": {
    "collapsed": false
   },
   "outputs": [
    {
     "name": "stdout",
     "output_type": "stream",
     "text": [
      "['country', 'age', 'name']\n",
      "['India', 45, 'John']\n",
      "45\n"
     ]
    }
   ],
   "source": [
    "d={'name':'John','age':45,'country':'India'}\n",
    "print (d.keys()) # printing keys\n",
    "print (d.values())# printing values"
   ]
  },
  {
   "cell_type": "code",
   "execution_count": 20,
   "metadata": {
    "collapsed": false
   },
   "outputs": [
    {
     "name": "stdout",
     "output_type": "stream",
     "text": [
      "45\n",
      "45\n",
      "45\n",
      "{'country': 'India', 'name': 'John'}\n"
     ]
    }
   ],
   "source": [
    "print(d['age']) # indexing by key\n",
    "print (d.get('age')) # accessing value corresponding to a key\n",
    "print (d.pop('age')) # accessing value corresponding to a key and then removing it from dict\n",
    "print (d)"
   ]
  },
  {
   "cell_type": "markdown",
   "metadata": {},
   "source": [
    "## Strings\n",
    "#### 3 ways to define a string using either single, double or triple quotes. The advantage of triple quotes is that single and double quotes can be included as part of the string without using escape sequences. Also, triple quotes specify multi line strings.\n"
   ]
  },
  {
   "cell_type": "code",
   "execution_count": 23,
   "metadata": {
    "collapsed": false
   },
   "outputs": [
    {
     "name": "stdout",
     "output_type": "stream",
     "text": [
      "India!\n",
      "!\n"
     ]
    }
   ],
   "source": [
    "test=\"This is India!\"\n",
    "print test[8:] #slicing\n",
    "print test[-1] #indexing"
   ]
  },
  {
   "cell_type": "code",
   "execution_count": 24,
   "metadata": {
    "collapsed": false
   },
   "outputs": [
    {
     "ename": "TypeError",
     "evalue": "'str' object does not support item assignment",
     "output_type": "error",
     "traceback": [
      "\u001b[1;31m---------------------------------------------------------------------------\u001b[0m",
      "\u001b[1;31mTypeError\u001b[0m                                 Traceback (most recent call last)",
      "\u001b[1;32m<ipython-input-24-b876f652c9e5>\u001b[0m in \u001b[0;36m<module>\u001b[1;34m()\u001b[0m\n\u001b[1;32m----> 1\u001b[1;33m \u001b[0mtest\u001b[0m\u001b[1;33m[\u001b[0m\u001b[1;33m-\u001b[0m\u001b[1;36m1\u001b[0m\u001b[1;33m]\u001b[0m\u001b[1;33m=\u001b[0m\u001b[1;34m'.'\u001b[0m \u001b[1;31m#strings are immutable, this will give an error\u001b[0m\u001b[1;33m\u001b[0m\u001b[0m\n\u001b[0m",
      "\u001b[1;31mTypeError\u001b[0m: 'str' object does not support item assignment"
     ]
    }
   ],
   "source": [
    "test[-1]='.' #strings are immutable, this will give an error"
   ]
  },
  {
   "cell_type": "code",
   "execution_count": 27,
   "metadata": {
    "collapsed": false
   },
   "outputs": [
    {
     "name": "stdout",
     "output_type": "stream",
     "text": [
      "T\n",
      "h\n",
      "i\n",
      "s\n",
      " \n",
      "i\n",
      "s\n",
      " \n",
      "I\n",
      "n\n",
      "d\n",
      "i\n",
      "a\n",
      "!\n"
     ]
    }
   ],
   "source": [
    "#formatting using '%'\n",
    "for s in test:\n",
    "    print (\"%s\" % s)"
   ]
  },
  {
   "cell_type": "markdown",
   "metadata": {},
   "source": [
    "#### '+' and '*' can be used to concatenate and augment strings respectively.\n",
    "#### >, >=, ==, <=, < and != can be used to compare two strings\n",
    "#### isdigit(), isalpha(), islower(), isupper(), istitle(), isspace(), str.isalnum() are methods for checking types of alpha numeric characters in strings\n",
    "#### count() and len() are other useful functions for strings\n",
    "#### endswith(), startswith(), find() and index() are for searching for substrings in a string."
   ]
  },
  {
   "cell_type": "code",
   "execution_count": 36,
   "metadata": {
    "collapsed": false
   },
   "outputs": [
    {
     "name": "stdout",
     "output_type": "stream",
     "text": [
      "this is India\n",
      "['this', 'is', 'India']\n",
      "['this', 'India']\n"
     ]
    }
   ],
   "source": [
    "#join and split functions\n",
    "m = ' '.join(['this' ,'is', 'India'])\n",
    "print m\n",
    "print m.split()\n",
    "print m.split(\" is \")"
   ]
  },
  {
   "cell_type": "markdown",
   "metadata": {},
   "source": [
    "## Sets\n",
    "#### Sets are unordered sequence of items"
   ]
  },
  {
   "cell_type": "code",
   "execution_count": 39,
   "metadata": {
    "collapsed": false
   },
   "outputs": [
    {
     "name": "stdout",
     "output_type": "stream",
     "text": [
      "a union b: set([1, 2, 3, 4, 5])\n",
      "a intersection b: set([2, 3])\n",
      "Is a a subset of b? False\n",
      "Difference between a and b: set([1])\n",
      "Sysmmetric difference: set([1, 4, 5])\n"
     ]
    }
   ],
   "source": [
    "a = set([1, 2, 3])\n",
    "b = set([2, 3, 4, 5])\n",
    "print (\"a union b: %s\" % (a | b)) # Union\n",
    "print (\"a intersection b: %s\" % (a & b)) # Intersection\n",
    "print (\"Is a a subset of b? %s\" % (a < b)) # Subset\n",
    "print (\"Difference between a and b: %s\" % (a - b)) # Difference\n",
    "print (\"Sysmmetric difference: %s\" % (a ^ b)) # Symmetric Difference"
   ]
  },
  {
   "cell_type": "code",
   "execution_count": null,
   "metadata": {
    "collapsed": true
   },
   "outputs": [],
   "source": []
  }
 ],
 "metadata": {
  "kernelspec": {
   "display_name": "Python 2",
   "language": "python",
   "name": "python2"
  },
  "language_info": {
   "codemirror_mode": {
    "name": "ipython",
    "version": 2
   },
   "file_extension": ".py",
   "mimetype": "text/x-python",
   "name": "python",
   "nbconvert_exporter": "python",
   "pygments_lexer": "ipython2",
   "version": "2.7.11"
  }
 },
 "nbformat": 4,
 "nbformat_minor": 0
}
